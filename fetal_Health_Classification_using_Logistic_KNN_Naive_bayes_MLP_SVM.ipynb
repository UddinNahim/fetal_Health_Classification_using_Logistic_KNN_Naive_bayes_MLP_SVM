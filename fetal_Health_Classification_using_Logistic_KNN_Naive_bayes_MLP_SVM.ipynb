{
  "nbformat": 4,
  "nbformat_minor": 0,
  "metadata": {
    "colab": {
      "private_outputs": true,
      "provenance": [],
      "mount_file_id": "1YOl_VkwH-B6LfqqQ-R8zRCm3xP2sLYyf",
      "authorship_tag": "ABX9TyPzi9/wIDYYwaZp5b9IY0uJ",
      "include_colab_link": true
    },
    "kernelspec": {
      "name": "python3",
      "display_name": "Python 3"
    },
    "language_info": {
      "name": "python"
    }
  },
  "cells": [
    {
      "cell_type": "markdown",
      "metadata": {
        "id": "view-in-github",
        "colab_type": "text"
      },
      "source": [
        "<a href=\"https://colab.research.google.com/github/UddinNahim/fetal_Health_Classification_using_Logistic_KNN_Naive_bayes_MLP_SVM/blob/main/fetal_Health_Classification_using_Logistic_KNN_Naive_bayes_MLP_SVM.ipynb\" target=\"_parent\"><img src=\"https://colab.research.google.com/assets/colab-badge.svg\" alt=\"Open In Colab\"/></a>"
      ]
    },
    {
      "cell_type": "markdown",
      "source": [
        "We have a datasets named,\"fetal_health.csv\" and the datasets collected from kaggle.\n",
        "https://www.kaggle.com/datasets/andrewmvd/fetal-health-classification"
      ],
      "metadata": {
        "id": "1aT5iAF2gcgr"
      }
    },
    {
      "cell_type": "code",
      "source": [
        "import numpy as np\n",
        "import matplotlib.pyplot as plt\n",
        "import pandas as pd"
      ],
      "metadata": {
        "id": "igcQXhr_gapL"
      },
      "execution_count": null,
      "outputs": []
    },
    {
      "cell_type": "code",
      "source": [
        "dataset = pd.read_csv('fetal_health.csv')\n"
      ],
      "metadata": {
        "id": "7QGSXZfWcPJz"
      },
      "execution_count": null,
      "outputs": []
    },
    {
      "cell_type": "code",
      "source": [
        "dataset"
      ],
      "metadata": {
        "id": "z4_P8Z7qcY07"
      },
      "execution_count": null,
      "outputs": []
    },
    {
      "cell_type": "code",
      "source": [
        "X=dataset.drop(['fetal_health'],axis=1)\n",
        "y=dataset['fetal_health']"
      ],
      "metadata": {
        "id": "ebZd2Tz0cbXb"
      },
      "execution_count": null,
      "outputs": []
    },
    {
      "cell_type": "code",
      "source": [
        "dataset.info()"
      ],
      "metadata": {
        "id": "sHF-c9Wyc3nM"
      },
      "execution_count": null,
      "outputs": []
    },
    {
      "cell_type": "code",
      "source": [
        "print(X)"
      ],
      "metadata": {
        "id": "dlfHxRNIclbc"
      },
      "execution_count": null,
      "outputs": []
    },
    {
      "cell_type": "code",
      "source": [
        "print(y)"
      ],
      "metadata": {
        "id": "l3_Z5byLcoKy"
      },
      "execution_count": null,
      "outputs": []
    },
    {
      "cell_type": "code",
      "source": [
        "dataset.info()"
      ],
      "metadata": {
        "id": "lLnNVTMhcr-D"
      },
      "execution_count": null,
      "outputs": []
    },
    {
      "cell_type": "code",
      "source": [
        "pd.isnull(dataset).sum()"
      ],
      "metadata": {
        "id": "ouI5FPD2c7lb"
      },
      "execution_count": null,
      "outputs": []
    },
    {
      "cell_type": "code",
      "source": [
        "from sklearn.preprocessing import StandardScaler\n",
        "sc=StandardScaler()\n",
        "X=sc.fit_transform(X)"
      ],
      "metadata": {
        "id": "6OKeFzclc_F7"
      },
      "execution_count": null,
      "outputs": []
    },
    {
      "cell_type": "code",
      "source": [
        "from sklearn.model_selection import train_test_split\n",
        "X_train,X_test,y_train,y_test=train_test_split(X,y,test_size=0.2,random_state=0)"
      ],
      "metadata": {
        "id": "Vj-2tn0_dHhD"
      },
      "execution_count": null,
      "outputs": []
    },
    {
      "cell_type": "code",
      "source": [
        "from sklearn.linear_model import LogisticRegression\n",
        "classifier=LogisticRegression(random_state=0)\n",
        "classifier.fit(X_train,y_train)"
      ],
      "metadata": {
        "id": "FPTmMC_4dNAL"
      },
      "execution_count": null,
      "outputs": []
    },
    {
      "cell_type": "code",
      "source": [
        "y_pred=classifier.predict(X_test)"
      ],
      "metadata": {
        "id": "LMnhOZT4dUvU"
      },
      "execution_count": null,
      "outputs": []
    },
    {
      "cell_type": "code",
      "source": [
        "from sklearn.metrics import confusion_matrix,accuracy_score\n",
        "cm=confusion_matrix(y_test,y_pred)\n",
        "print(cm)\n",
        "Log_accuracy = accuracy_score(y_test,y_pred)\n",
        "print(\"Logistic Regression Accuracy:\" , Log_accuracy)"
      ],
      "metadata": {
        "id": "HDgs8_bEdYCT"
      },
      "execution_count": null,
      "outputs": []
    },
    {
      "cell_type": "code",
      "source": [
        "from sklearn.metrics import classification_report\n",
        "print(classification_report(y_test,y_pred))"
      ],
      "metadata": {
        "id": "9q4wivh2d2os"
      },
      "execution_count": null,
      "outputs": []
    },
    {
      "cell_type": "code",
      "source": [
        "from sklearn.metrics import ConfusionMatrixDisplay\n",
        "disp = ConfusionMatrixDisplay(confusion_matrix=cm,display_labels=classifier.classes_)\n",
        "disp.plot()\n",
        "plt.show()"
      ],
      "metadata": {
        "id": "4OyqOsE6d8Jy"
      },
      "execution_count": null,
      "outputs": []
    },
    {
      "cell_type": "code",
      "source": [
        "from sklearn.neighbors import KNeighborsClassifier\n",
        "classifier=KNeighborsClassifier(n_neighbors=5,metric='minkowski',p=2)\n",
        "classifier.fit(X_train,y_train)"
      ],
      "metadata": {
        "id": "_NurXyl6eGUS"
      },
      "execution_count": null,
      "outputs": []
    },
    {
      "cell_type": "code",
      "source": [
        "from sklearn.metrics import confusion_matrix,accuracy_score\n",
        "y_pred=classifier.predict(X_test)\n",
        "cm=confusion_matrix(y_test,y_pred)\n",
        "print(cm)\n",
        "KNN_accuracy = accuracy_score(y_test,y_pred)\n",
        "print(\"KNN Accuracy:\" , KNN_accuracy)"
      ],
      "metadata": {
        "id": "1QKWEWLueLPj"
      },
      "execution_count": null,
      "outputs": []
    },
    {
      "cell_type": "code",
      "source": [
        "from sklearn.metrics import classification_report\n",
        "print(classification_report(y_test,y_pred))\n"
      ],
      "metadata": {
        "id": "pdrtCJBLeRnj"
      },
      "execution_count": null,
      "outputs": []
    },
    {
      "cell_type": "code",
      "source": [
        "from sklearn.metrics import ConfusionMatrixDisplay\n",
        "disp = ConfusionMatrixDisplay(confusion_matrix=cm,display_labels=classifier.classes_)\n",
        "disp.plot()\n",
        "plt.show()"
      ],
      "metadata": {
        "id": "YfqW0sMeeYr8"
      },
      "execution_count": null,
      "outputs": []
    },
    {
      "cell_type": "code",
      "source": [
        " GaussianNB\n",
        "classifier=GaussianNB()\n",
        "classifier.fit(X_train,y_train)"
      ],
      "metadata": {
        "id": "QXhEeHebecsL"
      },
      "execution_count": null,
      "outputs": []
    },
    {
      "cell_type": "code",
      "source": [
        "from sklearn.metrics import confusion_matrix,accuracy_score\n",
        "y_pred=classifier.predict(X_test)\n",
        "cm=confusion_matrix(y_test,y_pred)\n",
        "print(cm)\n",
        "NB_accuracy = accuracy_score(y_test,y_pred)\n",
        "print(\"Naive Bayes Accuracy:\" , NB_accuracy)"
      ],
      "metadata": {
        "id": "uDKXerY9egxl"
      },
      "execution_count": null,
      "outputs": []
    },
    {
      "cell_type": "code",
      "source": [
        "from sklearn.naive_bayes import MultinomialNB\n",
        "from sklearn.preprocessing import MinMaxScaler\n",
        "\n",
        "\n",
        "scaler = MinMaxScaler()\n",
        "X_train_scaled = scaler.fit_transform(X_train)\n",
        "\n",
        "classifier = MultinomialNB()\n",
        "classifier.fit(X_train_scaled, y_train)"
      ],
      "metadata": {
        "id": "FBakk4vwerkD"
      },
      "execution_count": null,
      "outputs": []
    },
    {
      "cell_type": "code",
      "source": [
        "from sklearn.metrics import confusion_matrix,accuracy_score\n",
        "y_pred=classifier.predict(X_test)\n",
        "cm=confusion_matrix(y_test,y_pred)\n",
        "print(cm)\n",
        "NB_accuracy = accuracy_score(y_test,y_pred)\n",
        "print(\"Naive Bayes Accuracy:\" , NB_accuracy)"
      ],
      "metadata": {
        "id": "CPWdCRNje5KT"
      },
      "execution_count": null,
      "outputs": []
    },
    {
      "cell_type": "code",
      "source": [
        "from sklearn.metrics import classification_report\n",
        "print(classification_report(y_test,y_pred))"
      ],
      "metadata": {
        "id": "2QMjrvO3fZUk"
      },
      "execution_count": null,
      "outputs": []
    },
    {
      "cell_type": "code",
      "source": [
        "disp = ConfusionMatrixDisplay(confusion_matrix=cm,display_labels=classifier.classes_)\n",
        "disp.plot()\n",
        "plt.show()\n"
      ],
      "metadata": {
        "id": "Wd7BAbOYfAoj"
      },
      "execution_count": null,
      "outputs": []
    },
    {
      "cell_type": "code",
      "source": [
        "from sklearn.neural_network import MLPClassifier\n",
        "classifier=MLPClassifier(hidden_layer_sizes=(10,10,10),max_iter=1000)\n",
        "classifier.fit(X_train,y_train)"
      ],
      "metadata": {
        "id": "MTQKzEWofbnl"
      },
      "execution_count": null,
      "outputs": []
    },
    {
      "cell_type": "code",
      "source": [
        "from sklearn.metrics import confusion_matrix,accuracy_score\n",
        "y_pred=classifier.predict(X_test)\n",
        "cm=confusion_matrix(y_test,y_pred)\n",
        "print(cm)\n",
        "NN_accuracy = accuracy_score(y_test,y_pred)\n",
        "print(\"Neural Network Accuracy:\" , NN_accuracy)"
      ],
      "metadata": {
        "id": "O7lf2ffhfm7k"
      },
      "execution_count": null,
      "outputs": []
    },
    {
      "cell_type": "code",
      "source": [
        "from sklearn.metrics import classification_report ,ConfusionMatrixDisplay\n",
        "print(classification_report(y_test,y_pred))\n",
        "disp = ConfusionMatrixDisplay(confusion_matrix=cm,display_labels=classifier.classes_)\n",
        "disp.plot()\n",
        "plt.show()\n"
      ],
      "metadata": {
        "id": "8I-rOaqTf7cM"
      },
      "execution_count": null,
      "outputs": []
    },
    {
      "cell_type": "code",
      "source": [
        "from sklearn.svm import SVC\n",
        "classifier=SVC(kernel='rbf',random_state=0)\n",
        "classifier.fit(X_train,y_train)"
      ],
      "metadata": {
        "id": "M_qJHkS2fELz"
      },
      "execution_count": null,
      "outputs": []
    },
    {
      "cell_type": "code",
      "source": [
        "from sklearn.metrics import confusion_matrix,accuracy_score\n",
        "y_pred=classifier.predict(X_test)\n",
        "cm=confusion_matrix(y_test,y_pred)\n",
        "print(cm)\n",
        "SVM_accuracy = accuracy_score(y_test,y_pred)\n",
        "print(\"SVM Accuracy:\" , SVM_accuracy)"
      ],
      "metadata": {
        "id": "lkPt54mZfSbM"
      },
      "execution_count": null,
      "outputs": []
    },
    {
      "cell_type": "code",
      "source": [
        "from sklearn.metrics import classification_report, ConfusionMatrixDisplay\n",
        "print(classification_report(y_test,y_pred))\n",
        "disp = ConfusionMatrixDisplay(confusion_matrix=cm,display_labels=classifier.classes_)\n",
        "disp.plot()\n",
        "plt.show()"
      ],
      "metadata": {
        "id": "keci8tkggRVT"
      },
      "execution_count": null,
      "outputs": []
    },
    {
      "cell_type": "markdown",
      "source": [
        "import matplotlib.pyplot as plt\n",
        "\n",
        "models = ['Logistic Regression', 'Naive Bayes', 'MLP (Multi-Layer Perceptron)']\n",
        "accuracies = [log_accuracy, accuracy_naive, test_accuracy]\n",
        "\n",
        "plt.bar(models, accuracies, color=['blue', 'orange', 'Green'])\n",
        "plt.ylabel('Accuracy')\n",
        "plt.title('Accuracy Comparison between Logistic Regression, Naive Bayes, and MLP')\n",
        "plt.grid()\n",
        "plt.show()"
      ],
      "metadata": {
        "id": "N8vaWfsWhAaD"
      }
    },
    {
      "cell_type": "code",
      "source": [
        "import matplotlib.pyplot as plt\n",
        "models = ['Logistic Regression', 'KNN', 'Naive Bayes', 'MLP (Multi-Layer Perceptron)', 'SVM']\n",
        "accuracies = [Log_accuracy, KNN_accuracy, NB_accuracy, NN_accuracy, SVM_accuracy]\n",
        "plt.bar(models, accuracies, color=['blue', 'orange', 'Green', 'red', 'purple'])\n",
        "plt.ylabel('Accuracy')\n",
        "plt.title('Accuracy Comparison between Logistic Regression, KNN, Naive Bayes, MLP, and SVM')\n",
        "plt.grid()\n",
        "plt.show"
      ],
      "metadata": {
        "id": "UFi-bZEcgv7a"
      },
      "execution_count": null,
      "outputs": []
    }
  ]
}