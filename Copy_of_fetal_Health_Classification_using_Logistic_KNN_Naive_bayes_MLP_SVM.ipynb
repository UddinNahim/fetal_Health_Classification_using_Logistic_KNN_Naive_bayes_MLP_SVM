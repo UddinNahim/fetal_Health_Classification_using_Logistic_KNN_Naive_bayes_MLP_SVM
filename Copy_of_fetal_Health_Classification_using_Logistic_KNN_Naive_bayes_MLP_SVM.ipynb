{
  "nbformat": 4,
  "nbformat_minor": 0,
  "metadata": {
    "colab": {
      "private_outputs": true,
      "provenance": [],
      "gpuType": "T4",
      "mount_file_id": "1YOl_VkwH-B6LfqqQ-R8zRCm3xP2sLYyf",
      "authorship_tag": "ABX9TyM1YUotWoEzHfBaRqLm4BRN",
      "include_colab_link": true
    },
    "kernelspec": {
      "name": "python3",
      "display_name": "Python 3"
    },
    "language_info": {
      "name": "python"
    },
    "accelerator": "GPU"
  },
  "cells": [
    {
      "cell_type": "markdown",
      "metadata": {
        "id": "view-in-github",
        "colab_type": "text"
      },
      "source": [
        "<a href=\"https://colab.research.google.com/github/UddinNahim/fetal_Health_Classification_using_Logistic_KNN_Naive_bayes_MLP_SVM/blob/main/Copy_of_fetal_Health_Classification_using_Logistic_KNN_Naive_bayes_MLP_SVM.ipynb\" target=\"_parent\"><img src=\"https://colab.research.google.com/assets/colab-badge.svg\" alt=\"Open In Colab\"/></a>"
      ]
    },
    {
      "cell_type": "markdown",
      "source": [
        "We have a datasets named,\"fetal_health.csv\" and the datasets collected from kaggle.\n",
        "https://www.kaggle.com/datasets/andrewmvd/fetal-health-classification\n",
        "\n",
        "fetal_health.csv"
      ],
      "metadata": {
        "id": "1aT5iAF2gcgr"
      }
    },
    {
      "cell_type": "markdown",
      "source": [
        "Now,import numpy and pandas library"
      ],
      "metadata": {
        "id": "aMdV-8PZnCdj"
      }
    },
    {
      "cell_type": "code",
      "source": [
        "import numpy as np\n",
        "import matplotlib.pyplot as plt\n",
        "import pandas as pd"
      ],
      "metadata": {
        "id": "igcQXhr_gapL"
      },
      "execution_count": null,
      "outputs": []
    },
    {
      "cell_type": "markdown",
      "source": [
        "Now,connect our datasets from **github**"
      ],
      "metadata": {
        "id": "mjYo-sgsnIZD"
      }
    },
    {
      "cell_type": "code",
      "source": [
        "# Use 'raw.githubusercontent.com' for the raw file link\n",
        "dataset = pd.read_csv('https://raw.githubusercontent.com/UddinNahim/fetal_Health_Classification_using_Logistic_KNN_Naive_bayes_MLP_SVM/747c87caef46e61d0aa10312bfd9bf68cc445715/fetal_health.csv')"
      ],
      "metadata": {
        "id": "7QGSXZfWcPJz"
      },
      "execution_count": null,
      "outputs": []
    },
    {
      "cell_type": "markdown",
      "source": [
        "we want see our dataset"
      ],
      "metadata": {
        "id": "wOKXIGcQnQRc"
      }
    },
    {
      "cell_type": "code",
      "source": [
        "dataset"
      ],
      "metadata": {
        "id": "z4_P8Z7qcY07"
      },
      "execution_count": null,
      "outputs": []
    },
    {
      "cell_type": "markdown",
      "source": [
        "We drop the fetal_health column and select this  our as target"
      ],
      "metadata": {
        "id": "Pk4M54WLnXL0"
      }
    },
    {
      "cell_type": "code",
      "source": [
        "X=dataset.drop(['fetal_health'],axis=1)\n",
        "y=dataset['fetal_health']"
      ],
      "metadata": {
        "id": "ebZd2Tz0cbXb"
      },
      "execution_count": null,
      "outputs": []
    },
    {
      "cell_type": "markdown",
      "source": [
        "Now,we carefully looked our dataset ,is there any objects data column had?"
      ],
      "metadata": {
        "id": "xLBYZMtzngP0"
      }
    },
    {
      "cell_type": "code",
      "source": [
        "dataset.info()"
      ],
      "metadata": {
        "id": "sHF-c9Wyc3nM"
      },
      "execution_count": null,
      "outputs": []
    },
    {
      "cell_type": "markdown",
      "source": [
        "Now,print our Inputs"
      ],
      "metadata": {
        "id": "fisS0E4znwLr"
      }
    },
    {
      "cell_type": "code",
      "source": [
        "print(X)"
      ],
      "metadata": {
        "id": "dlfHxRNIclbc"
      },
      "execution_count": null,
      "outputs": []
    },
    {
      "cell_type": "markdown",
      "source": [
        "Print our target"
      ],
      "metadata": {
        "id": "3_A_Xkb9nyib"
      }
    },
    {
      "cell_type": "code",
      "source": [
        "print(y)"
      ],
      "metadata": {
        "id": "l3_Z5byLcoKy"
      },
      "execution_count": null,
      "outputs": []
    },
    {
      "cell_type": "code",
      "source": [
        "dataset.info()"
      ],
      "metadata": {
        "id": "lLnNVTMhcr-D"
      },
      "execution_count": null,
      "outputs": []
    },
    {
      "cell_type": "markdown",
      "source": [
        "we checked is there any null values"
      ],
      "metadata": {
        "id": "Zekrudccn3-D"
      }
    },
    {
      "cell_type": "code",
      "source": [
        "pd.isnull(dataset).sum()"
      ],
      "metadata": {
        "id": "ouI5FPD2c7lb"
      },
      "execution_count": null,
      "outputs": []
    },
    {
      "cell_type": "markdown",
      "source": [
        "Now,preprocessed our dataset"
      ],
      "metadata": {
        "id": "7dKhNArZoDID"
      }
    },
    {
      "cell_type": "code",
      "source": [
        "from sklearn.preprocessing import StandardScaler\n",
        "sc=StandardScaler()\n",
        "X=sc.fit_transform(X)"
      ],
      "metadata": {
        "id": "6OKeFzclc_F7"
      },
      "execution_count": null,
      "outputs": []
    },
    {
      "cell_type": "markdown",
      "source": [
        "Now ,we import train_test_split and divided our dataset into 80% for training and 20% for testing"
      ],
      "metadata": {
        "id": "MN5IEE_noKFT"
      }
    },
    {
      "cell_type": "code",
      "source": [
        "from sklearn.model_selection import train_test_split\n",
        "X_train,X_test,y_train,y_test=train_test_split(X,y,test_size=0.2,random_state=0)"
      ],
      "metadata": {
        "id": "Vj-2tn0_dHhD"
      },
      "execution_count": null,
      "outputs": []
    },
    {
      "cell_type": "markdown",
      "source": [
        "Now,we used logistic regression here"
      ],
      "metadata": {
        "id": "E9EEDj6voUjS"
      }
    },
    {
      "cell_type": "code",
      "source": [
        "from sklearn.linear_model import LogisticRegression\n",
        "classifier=LogisticRegression(random_state=0)\n",
        "classifier.fit(X_train,y_train)"
      ],
      "metadata": {
        "id": "FPTmMC_4dNAL"
      },
      "execution_count": null,
      "outputs": []
    },
    {
      "cell_type": "markdown",
      "source": [
        "Now,we predict y or our target"
      ],
      "metadata": {
        "id": "l8NjbWLHobJD"
      }
    },
    {
      "cell_type": "code",
      "source": [
        "y_pred=classifier.predict(X_test)"
      ],
      "metadata": {
        "id": "LMnhOZT4dUvU"
      },
      "execution_count": null,
      "outputs": []
    },
    {
      "cell_type": "markdown",
      "source": [
        "we print confusion_matrix and accuracy score of logistic Regression\n"
      ],
      "metadata": {
        "id": "oWgXY29TorHY"
      }
    },
    {
      "cell_type": "code",
      "source": [
        "from sklearn.metrics import confusion_matrix,accuracy_score\n",
        "cm=confusion_matrix(y_test,y_pred)\n",
        "print(cm)\n",
        "Log_accuracy = accuracy_score(y_test,y_pred)\n",
        "print(\"Logistic Regression Accuracy:\" , Log_accuracy)"
      ],
      "metadata": {
        "id": "HDgs8_bEdYCT"
      },
      "execution_count": null,
      "outputs": []
    },
    {
      "cell_type": "markdown",
      "source": [
        "Now,we print classification report Logistic Regression"
      ],
      "metadata": {
        "id": "C3RzZHPYos4D"
      }
    },
    {
      "cell_type": "markdown",
      "source": [
        "\n",
        "---\n",
        "\n"
      ],
      "metadata": {
        "id": "MWcqBnX1og76"
      }
    },
    {
      "cell_type": "code",
      "source": [
        "from sklearn.metrics import classification_report\n",
        "print(classification_report(y_test,y_pred))"
      ],
      "metadata": {
        "id": "9q4wivh2d2os"
      },
      "execution_count": null,
      "outputs": []
    },
    {
      "cell_type": "markdown",
      "source": [
        "Display the Confusion Matrix of logistic regression"
      ],
      "metadata": {
        "id": "Sb0wi6Iwoxzr"
      }
    },
    {
      "cell_type": "code",
      "source": [
        "from sklearn.metrics import ConfusionMatrixDisplay\n",
        "disp = ConfusionMatrixDisplay(confusion_matrix=cm,display_labels=classifier.classes_)\n",
        "disp.plot()\n",
        "plt.show()"
      ],
      "metadata": {
        "id": "4OyqOsE6d8Jy"
      },
      "execution_count": null,
      "outputs": []
    },
    {
      "cell_type": "markdown",
      "source": [
        "Now, we used KNN"
      ],
      "metadata": {
        "id": "lEzXKrs9o3cq"
      }
    },
    {
      "cell_type": "code",
      "source": [
        "from sklearn.neighbors import KNeighborsClassifier\n",
        "classifier=KNeighborsClassifier(n_neighbors=5,metric='minkowski',p=2)\n",
        "classifier.fit(X_train,y_train)"
      ],
      "metadata": {
        "id": "_NurXyl6eGUS"
      },
      "execution_count": null,
      "outputs": []
    },
    {
      "cell_type": "code",
      "source": [
        "from sklearn.metrics import confusion_matrix,accuracy_score\n",
        "y_pred=classifier.predict(X_test)\n",
        "cm=confusion_matrix(y_test,y_pred)\n",
        "print(cm)\n",
        "KNN_accuracy = accuracy_score(y_test,y_pred)\n",
        "print(\"KNN Accuracy:\" , KNN_accuracy)"
      ],
      "metadata": {
        "id": "1QKWEWLueLPj"
      },
      "execution_count": null,
      "outputs": []
    },
    {
      "cell_type": "code",
      "source": [
        "from sklearn.metrics import classification_report\n",
        "print(classification_report(y_test,y_pred))\n"
      ],
      "metadata": {
        "id": "pdrtCJBLeRnj"
      },
      "execution_count": null,
      "outputs": []
    },
    {
      "cell_type": "code",
      "source": [
        "from sklearn.metrics import ConfusionMatrixDisplay\n",
        "disp = ConfusionMatrixDisplay(confusion_matrix=cm,display_labels=classifier.classes_)\n",
        "disp.plot()\n",
        "plt.show()"
      ],
      "metadata": {
        "id": "YfqW0sMeeYr8"
      },
      "execution_count": null,
      "outputs": []
    },
    {
      "cell_type": "markdown",
      "source": [
        "Here,we used gaussina Naive_bayes"
      ],
      "metadata": {
        "id": "OhjVj6NUo9YN"
      }
    },
    {
      "cell_type": "code",
      "source": [
        "from sklearn.naive_bayes import GaussianNB\n",
        "classifier=GaussianNB()\n",
        "classifier.fit(X_train,y_train)"
      ],
      "metadata": {
        "id": "QXhEeHebecsL"
      },
      "execution_count": null,
      "outputs": []
    },
    {
      "cell_type": "code",
      "source": [
        "from sklearn.metrics import confusion_matrix,accuracy_score\n",
        "y_pred=classifier.predict(X_test)\n",
        "cm=confusion_matrix(y_test,y_pred)\n",
        "print(cm)\n",
        "NB_accuracy = accuracy_score(y_test,y_pred)\n",
        "print(\"Naive Bayes Accuracy:\" , NB_accuracy)"
      ],
      "metadata": {
        "id": "uDKXerY9egxl"
      },
      "execution_count": null,
      "outputs": []
    },
    {
      "cell_type": "markdown",
      "source": [
        "Here we used multinomial naive bayes"
      ],
      "metadata": {
        "id": "XgtPY0wqpCnD"
      }
    },
    {
      "cell_type": "code",
      "source": [
        "from sklearn.naive_bayes import MultinomialNB\n",
        "from sklearn.preprocessing import MinMaxScaler\n",
        "\n",
        "\n",
        "scaler = MinMaxScaler()\n",
        "X_train_scaled = scaler.fit_transform(X_train)\n",
        "\n",
        "classifier = MultinomialNB()\n",
        "classifier.fit(X_train_scaled, y_train)"
      ],
      "metadata": {
        "id": "FBakk4vwerkD"
      },
      "execution_count": null,
      "outputs": []
    },
    {
      "cell_type": "code",
      "source": [
        "from sklearn.metrics import confusion_matrix,accuracy_score\n",
        "y_pred=classifier.predict(X_test)\n",
        "cm=confusion_matrix(y_test,y_pred)\n",
        "print(cm)\n",
        "NB_accuracy = accuracy_score(y_test,y_pred)\n",
        "print(\"Naive Bayes Accuracy:\" , NB_accuracy)"
      ],
      "metadata": {
        "id": "CPWdCRNje5KT"
      },
      "execution_count": null,
      "outputs": []
    },
    {
      "cell_type": "code",
      "source": [
        "from sklearn.metrics import classification_report\n",
        "print(classification_report(y_test,y_pred))"
      ],
      "metadata": {
        "id": "2QMjrvO3fZUk"
      },
      "execution_count": null,
      "outputs": []
    },
    {
      "cell_type": "code",
      "source": [
        "disp = ConfusionMatrixDisplay(confusion_matrix=cm,display_labels=classifier.classes_)\n",
        "disp.plot()\n",
        "plt.show()\n"
      ],
      "metadata": {
        "id": "Wd7BAbOYfAoj"
      },
      "execution_count": null,
      "outputs": []
    },
    {
      "cell_type": "markdown",
      "source": [
        "Here we use neural network for best accuracy"
      ],
      "metadata": {
        "id": "ndnMUqvUpKc0"
      }
    },
    {
      "cell_type": "code",
      "source": [
        "from sklearn.neural_network import MLPClassifier\n",
        "classifier=MLPClassifier(hidden_layer_sizes=(10,10,10),max_iter=1000)\n",
        "classifier.fit(X_train,y_train)"
      ],
      "metadata": {
        "id": "MTQKzEWofbnl"
      },
      "execution_count": null,
      "outputs": []
    },
    {
      "cell_type": "code",
      "source": [
        "from sklearn.metrics import confusion_matrix,accuracy_score\n",
        "y_pred=classifier.predict(X_test)\n",
        "cm=confusion_matrix(y_test,y_pred)\n",
        "print(cm)\n",
        "NN_accuracy = accuracy_score(y_test,y_pred)\n",
        "print(\"Neural Network Accuracy:\" , NN_accuracy)"
      ],
      "metadata": {
        "id": "O7lf2ffhfm7k"
      },
      "execution_count": null,
      "outputs": []
    },
    {
      "cell_type": "code",
      "source": [
        "from sklearn.metrics import classification_report ,ConfusionMatrixDisplay\n",
        "print(classification_report(y_test,y_pred))\n",
        "disp = ConfusionMatrixDisplay(confusion_matrix=cm,display_labels=classifier.classes_)\n",
        "disp.plot()\n",
        "plt.show()\n"
      ],
      "metadata": {
        "id": "8I-rOaqTf7cM"
      },
      "execution_count": null,
      "outputs": []
    },
    {
      "cell_type": "markdown",
      "source": [
        "here,we used another algorithm which is called SVC"
      ],
      "metadata": {
        "id": "oePtzAPapQQs"
      }
    },
    {
      "cell_type": "code",
      "source": [
        "from sklearn.svm import SVC\n",
        "classifier=SVC(kernel='rbf',random_state=0)\n",
        "classifier.fit(X_train,y_train)"
      ],
      "metadata": {
        "id": "M_qJHkS2fELz"
      },
      "execution_count": null,
      "outputs": []
    },
    {
      "cell_type": "code",
      "source": [
        "from sklearn.metrics import confusion_matrix,accuracy_score\n",
        "y_pred=classifier.predict(X_test)\n",
        "cm=confusion_matrix(y_test,y_pred)\n",
        "print(cm)\n",
        "SVM_accuracy = accuracy_score(y_test,y_pred)\n",
        "print(\"SVM Accuracy:\" , SVM_accuracy)"
      ],
      "metadata": {
        "id": "lkPt54mZfSbM"
      },
      "execution_count": null,
      "outputs": []
    },
    {
      "cell_type": "code",
      "source": [
        "from sklearn.metrics import classification_report, ConfusionMatrixDisplay\n",
        "print(classification_report(y_test,y_pred))\n",
        "disp = ConfusionMatrixDisplay(confusion_matrix=cm,display_labels=classifier.classes_)\n",
        "disp.plot()\n",
        "plt.show()"
      ],
      "metadata": {
        "id": "keci8tkggRVT"
      },
      "execution_count": null,
      "outputs": []
    },
    {
      "cell_type": "markdown",
      "source": [
        "here,we compares the all models accuracy"
      ],
      "metadata": {
        "id": "DsH3xpnkpVlD"
      }
    },
    {
      "cell_type": "code",
      "source": [
        "import matplotlib.pyplot as plt\n",
        "models = ['Logistic Regression', 'KNN', 'Naive Bayes', 'MLP', 'SVM']\n",
        "accuracies = [Log_accuracy, KNN_accuracy, NB_accuracy, NN_accuracy, SVM_accuracy]\n",
        "plt.bar(models, accuracies, color=['blue', 'orange', 'Green', 'red', 'purple'])\n",
        "plt.ylabel('Accuracy')\n",
        "plt.title('Accuracy Comparison between Logistic Regression, KNN, Naive Bayes, MLP  (Multi-Layer Perceptron), and SVM')\n",
        "plt.grid()\n",
        "plt.show"
      ],
      "metadata": {
        "id": "UFi-bZEcgv7a"
      },
      "execution_count": null,
      "outputs": []
    }
  ]
}